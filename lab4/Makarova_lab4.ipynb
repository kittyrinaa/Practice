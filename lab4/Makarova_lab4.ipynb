{
 "cells": [
  {
   "cell_type": "markdown",
   "id": "48024103",
   "metadata": {},
   "source": [
    "Task 1. In Lab 3 we’ve created a Python class Movie representing movie data from \n",
    "Wikipedia. In this lab we are mapping it to an SQL table MOVIES, using SQLite \n",
    "database. \n",
    "1. Create a MOVIES table with columns TITLE, DIRECTOR, GENRE, YEAR, RATING. \n",
    "2. Add methods to the Movie class for SELECTing, UPDATEing, INSERTing, and \n",
    "DELETEing records from MOVIES table."
   ]
  },
  {
   "cell_type": "code",
   "execution_count": 1,
   "id": "decf021e",
   "metadata": {},
   "outputs": [],
   "source": [
    "import sqlite3"
   ]
  },
  {
   "cell_type": "markdown",
   "id": "f22ccf86",
   "metadata": {},
   "source": [
    "#### Підключаємо базу даних (Movies) і створбємо таблицю"
   ]
  },
  {
   "cell_type": "code",
   "execution_count": 16,
   "id": "a794d95b",
   "metadata": {},
   "outputs": [],
   "source": [
    "con = sqlite3.connect(\"Movies.db\")\n",
    "cur = con.cursor()"
   ]
  },
  {
   "cell_type": "code",
   "execution_count": 5,
   "id": "2ab0a285",
   "metadata": {},
   "outputs": [
    {
     "data": {
      "text/plain": [
       "<sqlite3.Cursor at 0x2321293a1c0>"
      ]
     },
     "execution_count": 5,
     "metadata": {},
     "output_type": "execute_result"
    }
   ],
   "source": [
    "cur.execute(\"\"\"CREATE TABLE If Not Exists Movies (title text,\n",
    "                                    year integer,\n",
    "                                    director text,\n",
    "                                    genre text,\n",
    "                                    rating real)\"\"\")"
   ]
  },
  {
   "cell_type": "markdown",
   "id": "46ed0abf",
   "metadata": {},
   "source": [
    "#### Тепер створюємо клас Movie і додаємо методи:\n",
    "* select info by movie title\n",
    "* insert info into table\n",
    "* update rating in table by movie title(hope it's oke)\n",
    "* delete info about movie by title"
   ]
  },
  {
   "cell_type": "code",
   "execution_count": 28,
   "id": "f60ed95a",
   "metadata": {},
   "outputs": [],
   "source": [
    "class Movie:\n",
    "    def __init__(self, title, year, director, genre, rating):\n",
    "        self.title = title\n",
    "        self.year = year\n",
    "        self.director = director\n",
    "        self.genre = genre\n",
    "        self.rating = rating\n",
    "    \n",
    "    @classmethod    \n",
    "    def selecting(self, name):\n",
    "        cur.execute(\"Select * from Movies where title=?\", (name,))\n",
    "        res = cur.fetchone()\n",
    "        return Movie(res[0],res[1],res[2], res[3],res[4])\n",
    "    \n",
    "    def inserting(self):\n",
    "        cur.execute('INSERT INTO Movies(title, year, director,genre, rating) Values(?,?,?,?,?)', (self.title, self.year, self.director, self.genre, self.rating))\n",
    "        con.commit()\n",
    "            \n",
    "    def updating_rating(title, rating):\n",
    "        cur.execute('UPDATE Movies SET rating=? WHERE title=?', (rating,title))\n",
    "        con.commit()\n",
    "        \n",
    "    def deleting(title):\n",
    "        cur.execute('DELETE FROM Movies WHERE title=?', (title,))\n",
    "        con.commit()\n",
    "        "
   ]
  },
  {
   "cell_type": "code",
   "execution_count": 12,
   "id": "0d420d9a",
   "metadata": {},
   "outputs": [],
   "source": [
    "movie_1 = Movie('It Chapter One', 2017, 'Andy Muschietti', 'horror film', 7.3)\n",
    "movie_2 = Movie('Interstellar', 2014, 'Christopher Nolan', 'science fiction', 8.7)\n",
    "movie_3 = Movie('Spider-Man', 2002, 'Sam Raimi', 'superhero film', 7.4)"
   ]
  },
  {
   "cell_type": "markdown",
   "id": "c34a5da8",
   "metadata": {},
   "source": [
    "#### Тут я вставляю дані про фільм і демонструю, що вони додались в таблицю (insert and select)"
   ]
  },
  {
   "cell_type": "code",
   "execution_count": 14,
   "id": "da306f55",
   "metadata": {},
   "outputs": [],
   "source": [
    "movie_1.inserting()"
   ]
  },
  {
   "cell_type": "code",
   "execution_count": 15,
   "id": "35684a34",
   "metadata": {},
   "outputs": [
    {
     "data": {
      "text/plain": [
       "{'title': 'It Chapter One',\n",
       " 'year': 2017,\n",
       " 'director': 'Andy Muschietti',\n",
       " 'genre': 'horror film',\n",
       " 'rating': 7.3}"
      ]
     },
     "execution_count": 15,
     "metadata": {},
     "output_type": "execute_result"
    }
   ],
   "source": [
    "Movie.selecting('It Chapter One').__dict__"
   ]
  },
  {
   "cell_type": "markdown",
   "id": "b9e83039",
   "metadata": {},
   "source": [
    "#### Оновлюємо оцінку фільму"
   ]
  },
  {
   "cell_type": "code",
   "execution_count": 24,
   "id": "67cc042a",
   "metadata": {},
   "outputs": [],
   "source": [
    "Movie.updating_rating('It Chapter One', 9.1)"
   ]
  },
  {
   "cell_type": "code",
   "execution_count": 25,
   "id": "b0defa29",
   "metadata": {},
   "outputs": [
    {
     "data": {
      "text/plain": [
       "{'title': 'It Chapter One',\n",
       " 'year': 2017,\n",
       " 'director': 'Andy Muschietti',\n",
       " 'genre': 'horror film',\n",
       " 'rating': 9.1}"
      ]
     },
     "execution_count": 25,
     "metadata": {},
     "output_type": "execute_result"
    }
   ],
   "source": [
    "Movie.selecting('It Chapter One').__dict__"
   ]
  },
  {
   "cell_type": "markdown",
   "id": "0fd66117",
   "metadata": {},
   "source": [
    "#### Тут видаляємо дані з таблиці про фільм і демонструємо, що все працює коректно"
   ]
  },
  {
   "cell_type": "code",
   "execution_count": 29,
   "id": "2d904db5",
   "metadata": {},
   "outputs": [],
   "source": [
    "Movie.deleting('It Chapter One')"
   ]
  },
  {
   "cell_type": "code",
   "execution_count": 32,
   "id": "0a74ded2",
   "metadata": {},
   "outputs": [
    {
     "data": {
      "text/plain": [
       "[]"
      ]
     },
     "execution_count": 32,
     "metadata": {},
     "output_type": "execute_result"
    }
   ],
   "source": [
    "res = cur.execute(\"select * from Movies\")\n",
    "res.fetchall()"
   ]
  },
  {
   "cell_type": "code",
   "execution_count": 33,
   "id": "56683df3",
   "metadata": {},
   "outputs": [],
   "source": [
    "movie_2.inserting()"
   ]
  },
  {
   "cell_type": "code",
   "execution_count": 34,
   "id": "d8589c1a",
   "metadata": {},
   "outputs": [
    {
     "data": {
      "text/plain": [
       "[('Interstellar', 2014, 'Christopher Nolan', 'science fiction', 8.7)]"
      ]
     },
     "execution_count": 34,
     "metadata": {},
     "output_type": "execute_result"
    }
   ],
   "source": [
    "res = cur.execute(\"select * from Movies\")\n",
    "res.fetchall()"
   ]
  },
  {
   "cell_type": "code",
   "execution_count": null,
   "id": "378a30af",
   "metadata": {},
   "outputs": [],
   "source": []
  }
 ],
 "metadata": {
  "kernelspec": {
   "display_name": "Python 3 (ipykernel)",
   "language": "python",
   "name": "python3"
  },
  "language_info": {
   "codemirror_mode": {
    "name": "ipython",
    "version": 3
   },
   "file_extension": ".py",
   "mimetype": "text/x-python",
   "name": "python",
   "nbconvert_exporter": "python",
   "pygments_lexer": "ipython3",
   "version": "3.10.9"
  }
 },
 "nbformat": 4,
 "nbformat_minor": 5
}
