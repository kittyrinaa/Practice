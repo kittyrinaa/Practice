{
 "cells": [
  {
   "cell_type": "code",
   "execution_count": 1,
   "id": "e784dec2",
   "metadata": {},
   "outputs": [],
   "source": [
    "import sqlite3\n",
    "con = sqlite3.connect(\"movies.db\")\n",
    "cur = con.cursor()"
   ]
  },
  {
   "cell_type": "markdown",
   "id": "56f843f2",
   "metadata": {},
   "source": [
    "#### Country\n"
   ]
  },
  {
   "cell_type": "code",
   "execution_count": 2,
   "id": "b9850dc4",
   "metadata": {},
   "outputs": [],
   "source": [
    "from enum import Enum\n",
    "class Country(Enum):\n",
    "    USA = 'USA'\n",
    "    UKRAINE = 'Ukraine'\n",
    "    ITALY = 'Italy'\n",
    "    FRANCE = 'France'\n",
    "\n",
    "    @classmethod\n",
    "    def valueTuples(self):\n",
    "        return [(e.value,) for e in Country]\n",
    "\n",
    "    @classmethod\n",
    "    def createTable(self):\n",
    "        cur.execute('CREATE TABLE IF NOT EXISTS l_countries (country TEXT PRIMARY KEY)')\n",
    "        cur.executemany('INSERT INTO l_countries VALUES(?)', Country.valueTuples())\n",
    "        con.commit()\n",
    "\n",
    "    @classmethod\n",
    "    def removeTable(self):\n",
    "        cur.execute('DROP TABLE IF EXISTS l_countries')\n",
    "        con.commit()\n",
    "        \n",
    "    @classmethod\n",
    "    def getAll(self):\n",
    "        cur.execute('SELECT * FROM l_countries')\n",
    "        sqlResult = cur.fetchall()\n",
    "        return [Country(p[0]) for p in sqlResult]"
   ]
  },
  {
   "cell_type": "code",
   "execution_count": 3,
   "id": "db48a73d",
   "metadata": {},
   "outputs": [],
   "source": [
    "Country.removeTable()\n",
    "Country.createTable()"
   ]
  },
  {
   "cell_type": "code",
   "execution_count": 4,
   "id": "fdc0d9cb",
   "metadata": {},
   "outputs": [
    {
     "data": {
      "text/plain": [
       "[<Country.USA: 'USA'>,\n",
       " <Country.UKRAINE: 'Ukraine'>,\n",
       " <Country.ITALY: 'Italy'>,\n",
       " <Country.FRANCE: 'France'>]"
      ]
     },
     "execution_count": 4,
     "metadata": {},
     "output_type": "execute_result"
    }
   ],
   "source": [
    "Country.getAll()"
   ]
  },
  {
   "cell_type": "markdown",
   "id": "9e7020f8",
   "metadata": {},
   "source": [
    "#### Genre"
   ]
  },
  {
   "cell_type": "code",
   "execution_count": 5,
   "id": "a67d49d3",
   "metadata": {},
   "outputs": [],
   "source": [
    "class Genre(Enum):\n",
    "    FICTION = 'fiction'\n",
    "    DRAMA = 'drama'\n",
    "    ACTION = 'action'\n",
    "    BIOPIC = 'biopic'\n",
    "    OTHERS = 'others'\n",
    "  \n",
    "\n",
    "    @classmethod\n",
    "    def valueTuples(self):\n",
    "        return [(e.value,) for e in Genre]\n",
    "\n",
    "    @classmethod\n",
    "    def createTable(self):\n",
    "        cur.execute('CREATE TABLE IF NOT EXISTS l_genres (genre text)')\n",
    "        cur.executemany('INSERT INTO l_genres VALUES(?)', Genre.valueTuples())\n",
    "        con.commit()\n",
    "\n",
    "    @classmethod\n",
    "    def removeTable(self):\n",
    "        cur.execute('DROP TABLE IF EXISTS l_genres')\n",
    "        con.commit()\n",
    "        \n",
    "    @classmethod\n",
    "    def getAll(self):\n",
    "        cur.execute('SELECT * FROM l_genres')\n",
    "        sqlResult = cur.fetchall()\n",
    "        return [Genre(p[0]) for p in sqlResult]"
   ]
  },
  {
   "cell_type": "code",
   "execution_count": 6,
   "id": "6e768ab2",
   "metadata": {},
   "outputs": [
    {
     "data": {
      "text/plain": [
       "[<Genre.FICTION: 'fiction'>,\n",
       " <Genre.DRAMA: 'drama'>,\n",
       " <Genre.ACTION: 'action'>,\n",
       " <Genre.BIOPIC: 'biopic'>,\n",
       " <Genre.OTHERS: 'others'>]"
      ]
     },
     "execution_count": 6,
     "metadata": {},
     "output_type": "execute_result"
    }
   ],
   "source": [
    "Genre.removeTable()\n",
    "Genre.createTable()\n",
    "Genre.getAll()"
   ]
  },
  {
   "cell_type": "code",
   "execution_count": 7,
   "id": "039fad73",
   "metadata": {},
   "outputs": [],
   "source": [
    "def createGenreMapping():\n",
    "    cur.execute('''CREATE TABLE IF NOT EXISTS MOVIE_GENRE(\n",
    "                    movie text,\n",
    "                    genre text,\n",
    "                    PRIMARY KEY(movie, genre),\n",
    "                    FOREIGN KEY(movie) REFERENCES movies(name),\n",
    "                    FOREIGN KEY(genre) REFERENCES l_genres(genre))''')\n",
    "    con.commit()"
   ]
  },
  {
   "cell_type": "code",
   "execution_count": 8,
   "id": "56469ea5",
   "metadata": {},
   "outputs": [],
   "source": [
    "cur.execute('DROP TABLE IF EXISTS MOVIE_GENRE')\n",
    "con.commit()"
   ]
  },
  {
   "cell_type": "code",
   "execution_count": 9,
   "id": "74fe9f59",
   "metadata": {},
   "outputs": [],
   "source": [
    "createGenreMapping()"
   ]
  },
  {
   "cell_type": "markdown",
   "id": "115f6ade",
   "metadata": {},
   "source": [
    "#### Movie"
   ]
  },
  {
   "cell_type": "code",
   "execution_count": 10,
   "id": "9d89a170",
   "metadata": {},
   "outputs": [],
   "source": [
    "class Movie:\n",
    "    def __init__(self, name, director, country, year, rating, genres):\n",
    "        self.name = name\n",
    "        self.director = director\n",
    "        self.country = country\n",
    "        self.year = year\n",
    "        self.rating = rating\n",
    "        self.genres = genres\n",
    "\n",
    "    @classmethod\n",
    "    def createTable(self):\n",
    "        cur.execute('''CREATE TABLE IF NOT EXISTS movies (\n",
    "                        name text PRIMARY KEY,\n",
    "                        director text,\n",
    "                        country text,\n",
    "                        year integer,\n",
    "                        rating REAL,\n",
    "                        FOREIGN KEY(country) REFERENCES l_countries(country))''')\n",
    "        con.commit()\n",
    "\n",
    "    def insert(self):\n",
    "        cur.execute('''INSERT INTO movies VALUES(?,?,?,?, ?)''', (self.name, self.director, self.country, self.year, self.rating))\n",
    "        cur.executemany('''INSERT INTO movie_genre VALUES(?,?)''', [(self.name, m.value) for m in self.genres])\n",
    "        con.commit()\n",
    "\n",
    "    def update(self):\n",
    "        cur.execute('''UPDATE movies SET director=?, country=?, year=?, rating=? WHERE name=?''', (self.director, self.country, self.year, self.rating, self.name))\n",
    "        con.commit()\n",
    "        \n",
    "    @classmethod\n",
    "    def removeTable(self):\n",
    "        cur.execute('DROP TABLE IF EXISTS movies')\n",
    "        con.commit()\n",
    "        \n",
    "    @classmethod\n",
    "    def get(self, name):\n",
    "        cur.execute(''' SELECT director, country, year, rating, GROUP_CONCAT(genre, ',') FROM movies\n",
    "                    LEFT JOIN movie_genre ON movies.name = movie_genre.movie\n",
    "                    WHERE movies.name=? GROUP BY movies.name''', (name,))\n",
    "        res = cur.fetchone()\n",
    "        if res:\n",
    "            return Movie(name, res[0], res[1], res[2], res[3], getGenresFromString(res[4]))\n",
    "        else:\n",
    "            return None\n",
    "\n",
    "    def __str__(self):\n",
    "        return \"(%s, %s, %s, %s, %s, %s)\" % (self.name, self.director, self.country, self.year, self.rating, self.genres)"
   ]
  },
  {
   "cell_type": "code",
   "execution_count": 11,
   "id": "bfe90244",
   "metadata": {},
   "outputs": [],
   "source": [
    "def getGenresFromString(str):\n",
    "    return {Genre(e) for e in str.split(',')}"
   ]
  },
  {
   "cell_type": "code",
   "execution_count": 12,
   "id": "8d626f14",
   "metadata": {},
   "outputs": [],
   "source": [
    "Movie.removeTable()"
   ]
  },
  {
   "cell_type": "code",
   "execution_count": 13,
   "id": "2257f1cc",
   "metadata": {},
   "outputs": [],
   "source": [
    "\n",
    "Movie.createTable()"
   ]
  },
  {
   "cell_type": "code",
   "execution_count": 14,
   "id": "d1f45cd8",
   "metadata": {},
   "outputs": [],
   "source": [
    "movie1 = Movie('It Chapter One', 'Andy Muschietti', 'USA', 2017, 7.3, {Genre.OTHERS})\n",
    "movie2 = Movie('Interstellar', 'Christopher Nolan', 'USA', 2014, 8.7, {Genre.FICTION, Genre.ACTION})\n",
    "\n",
    "movie1.insert()\n",
    "movie2.insert()"
   ]
  },
  {
   "cell_type": "code",
   "execution_count": 15,
   "id": "697c4a7b",
   "metadata": {},
   "outputs": [
    {
     "name": "stdout",
     "output_type": "stream",
     "text": [
      "(Interstellar, Christopher Nolan, USA, 2014, 8.7, {<Genre.ACTION: 'action'>, <Genre.FICTION: 'fiction'>})\n"
     ]
    }
   ],
   "source": [
    "print(Movie.get('Interstellar'))"
   ]
  },
  {
   "cell_type": "markdown",
   "id": "284c4e95",
   "metadata": {},
   "source": [
    "#### Director"
   ]
  },
  {
   "cell_type": "code",
   "execution_count": 16,
   "id": "1a687e72",
   "metadata": {},
   "outputs": [],
   "source": [
    "class Director:\n",
    "    def __init__(self, name, birth_year, country):\n",
    "        self.name = name\n",
    "        self.birth_year = birth_year\n",
    "        self.country = country\n",
    "\n",
    "    @classmethod\n",
    "    def createTable(cls):\n",
    "        cur.execute('''CREATE TABLE IF NOT EXISTS directors (\n",
    "                        name TEXT PRIMARY KEY,\n",
    "                        birth_year INTEGER,\n",
    "                        country TEXT)''')\n",
    "        con.commit()\n",
    "\n",
    "    @classmethod\n",
    "    def removeTable(cls):\n",
    "        cur.execute('DROP TABLE IF EXISTS directors')\n",
    "        con.commit()\n",
    "\n",
    "    def insert(self):\n",
    "        cur.execute('''INSERT INTO directors VALUES(?,?,?)''', (self.name, self.birth_year, self.country))\n",
    "        con.commit()\n",
    "\n",
    "    def update(self):\n",
    "        cur.execute('''UPDATE directors SET birth_year=?, country=? WHERE name=?''', (self.birth_year, self.country, self.name))\n",
    "        con.commit() \n",
    "\n",
    "    @classmethod\n",
    "    def get(self, name):\n",
    "        cur.execute('SELECT birth_year, country FROM directors WHERE name=?', (name,))\n",
    "        res = cur.fetchone()\n",
    "        if res:\n",
    "            return Director(name, res[0], res[1])\n",
    "        else:\n",
    "            return None\n",
    "\n",
    "    @classmethod\n",
    "    def getAll(self):\n",
    "        cur.execute('SELECT name, birth_year, country FROM directors')\n",
    "        res = cur.fetchall()\n",
    "        return [Director(el[0], el[1], el[2]) for el in res]\n",
    "\n",
    "    def __str__(self):\n",
    "        return \"(%s, %s, %s)\" % (self.name, self.birth_year, self.country)\n"
   ]
  },
  {
   "cell_type": "code",
   "execution_count": 17,
   "id": "14bf083e",
   "metadata": {},
   "outputs": [],
   "source": [
    "Director.removeTable()\n",
    "Director.createTable()"
   ]
  },
  {
   "cell_type": "code",
   "execution_count": 18,
   "id": "7004035b",
   "metadata": {},
   "outputs": [],
   "source": [
    "d1 = Director('Christopher Nolan',  1970, 'USA')\n",
    "d2 = Director('Andy Muschietti', 1978, 'Argentine')\n",
    "\n",
    "d1.insert()\n",
    "d2.insert()"
   ]
  },
  {
   "cell_type": "code",
   "execution_count": 19,
   "id": "a62ea14c",
   "metadata": {},
   "outputs": [
    {
     "name": "stdout",
     "output_type": "stream",
     "text": [
      "(Christopher Nolan, 1970, USA)\n"
     ]
    }
   ],
   "source": [
    "directorFromDb = Director.get('Christopher Nolan')\n",
    "print(directorFromDb)"
   ]
  },
  {
   "cell_type": "code",
   "execution_count": 52,
   "id": "7bd0a814",
   "metadata": {},
   "outputs": [],
   "source": [
    "class Movies:\n",
    "    def __init__(self, name, director, country, year, rating, genres):\n",
    "        self.name = name\n",
    "        self.director = director\n",
    "        self.country = country\n",
    "        self.year = year\n",
    "        self.rating = rating\n",
    "        self.genres = genres\n",
    "\n",
    "    @classmethod\n",
    "    def createTable(self):\n",
    "        cur.execute('''CREATE TABLE IF NOT EXISTS movies (\n",
    "                        name TEXT PRIMARY KEY,\n",
    "                        director TEXT,\n",
    "                        country TEXT,\n",
    "                        year INTEGER,\n",
    "                        rating REAL,\n",
    "                        FOREIGN KEY(director) REFERENCES directors(name))''')\n",
    "        con.commit()\n",
    "\n",
    "    def insert(self):\n",
    "        cur.execute('''INSERT INTO movies VALUES(?,?,?,?,?)''', (self.name, self.director, self.country, self.year, self.rating))\n",
    "        cur.executemany('''INSERT INTO movie_genre VALUES(?,?)''', [(self.name, genre.value) for genre in self.genres])\n",
    "        con.commit()\n",
    "\n",
    "    def update(self):\n",
    "        cur.execute('''UPDATE movies SET director=?, country=?, year=?, rating=? WHERE name=?''', \n",
    "                    (self.director, self.country, self.year, self.rating, self.name))\n",
    "        con.commit() \n",
    "\n",
    "\n",
    "    @classmethod\n",
    "    def get(self):\n",
    "        cur.execute('''\n",
    "                    SELECT m.name, m.director, d.birth_year, d.country, m.country, m.year, m.rating, GROUP_CONCAT(g.genre, ',')\n",
    "                    FROM movies m\n",
    "                    LEFT JOIN directors d ON m.director = d.name\n",
    "                    LEFT JOIN movie_genre g ON m.name = g.movie\n",
    "                    GROUP BY m.name\n",
    "                    ''')\n",
    "        res = cur.fetchall()\n",
    "        return res\n",
    "    def __str__(self):\n",
    "        return \"(%s, %s, %s, %s, %s, %s)\" % (self.name, self.director, self.country, self.year, self.rating, self.genres)\n"
   ]
  },
  {
   "cell_type": "code",
   "execution_count": 53,
   "id": "5fcc6985",
   "metadata": {},
   "outputs": [],
   "source": [
    "Movie.removeTable()"
   ]
  },
  {
   "cell_type": "code",
   "execution_count": 54,
   "id": "1f71b567",
   "metadata": {},
   "outputs": [],
   "source": [
    "Movie.createTable()"
   ]
  },
  {
   "cell_type": "code",
   "execution_count": 55,
   "id": "98a3ab57",
   "metadata": {},
   "outputs": [],
   "source": [
    "cur.execute('DROP TABLE IF EXISTS MOVIE_GENRE')\n",
    "con.commit()"
   ]
  },
  {
   "cell_type": "code",
   "execution_count": 56,
   "id": "aab3bb38",
   "metadata": {},
   "outputs": [],
   "source": [
    "createGenreMapping()"
   ]
  },
  {
   "cell_type": "code",
   "execution_count": 57,
   "id": "85f88f0d",
   "metadata": {},
   "outputs": [],
   "source": [
    "movie1 = Movies('It Chapter One', 'Andy Muschietti', 'USA', 2017, 7.3, {Genre.OTHERS})\n",
    "movie2 = Movies('Interstellar', 'Christopher Nolan', 'USA', 2014, 8.7, {Genre.FICTION, Genre.ACTION})\n",
    "\n",
    "movie1.insert()\n",
    "movie2.insert()"
   ]
  },
  {
   "cell_type": "code",
   "execution_count": 58,
   "id": "2c03a311",
   "metadata": {},
   "outputs": [
    {
     "name": "stdout",
     "output_type": "stream",
     "text": [
      "[('Interstellar', 'Christopher Nolan', 1970, 'USA', 'USA', 2014, 8.7, 'action,fiction'), ('It Chapter One', 'Andy Muschietti', 1978, 'Argentine', 'USA', 2017, 7.3, 'others')]\n"
     ]
    }
   ],
   "source": [
    "print(movie1.get())"
   ]
  },
  {
   "cell_type": "code",
   "execution_count": 59,
   "id": "a506c5f5",
   "metadata": {},
   "outputs": [
    {
     "name": "stdout",
     "output_type": "stream",
     "text": [
      "[\"('Interstellar', 'Christopher Nolan', 1970, 'USA', 'USA', 2014, 8.7, 'action,fiction')\", \"('It Chapter One', 'Andy Muschietti', 1978, 'Argentine', 'USA', 2017, 7.3, 'others')\"]\n"
     ]
    }
   ],
   "source": [
    "movies = movie2.get()\n",
    "formatted_movies = []\n",
    "for movie in movies:\n",
    "    formatted_movies.append(str(movie))\n",
    "print(formatted_movies)"
   ]
  },
  {
   "cell_type": "markdown",
   "id": "e85a0f4c",
   "metadata": {},
   "source": [
    "Diagram\n",
    "\n",
    "```mermaid\n",
    "erDiagram\n",
    "\n",
    "\n",
    "    movie {\n",
    "        TEXT name PK\n",
    "        TEXT director\n",
    "        TEXT country FK\n",
    "        INTEGER year\n",
    "        REAL rating\n",
    "\n",
    "    }\n",
    "\n",
    "    l_countries {\n",
    "        TEXT country PK\n",
    "    }\n",
    "\n",
    "    directors {\n",
    "        TEXT name PK\n",
    "        INTEGER year\n",
    "        TEXT country\n",
    "    }\n",
    "\n",
    "    l_genres {\n",
    "        TEXT genre PK\n",
    "    }\n",
    "\n",
    "    movie_genres {\n",
    "        TEXT movie FK\n",
    "        TEXT genre FK\n",
    "    }\n",
    "\n",
    "\n",
    "    movie }|--|| directors : \"made by\"\n",
    "    movie }|--|| l_countries : from\n",
    "    movie }|--|{ movie_genres  : \"is\"\n",
    "    l_genres||--|{ movie_genres : refers\n",
    "```  "
   ]
  },
  {
   "cell_type": "code",
   "execution_count": null,
   "id": "640bbe76",
   "metadata": {},
   "outputs": [],
   "source": []
  },
  {
   "cell_type": "code",
   "execution_count": null,
   "id": "8d0e85b2",
   "metadata": {},
   "outputs": [],
   "source": []
  }
 ],
 "metadata": {
  "kernelspec": {
   "display_name": "Python 3 (ipykernel)",
   "language": "python",
   "name": "python3"
  },
  "language_info": {
   "codemirror_mode": {
    "name": "ipython",
    "version": 3
   },
   "file_extension": ".py",
   "mimetype": "text/x-python",
   "name": "python",
   "nbconvert_exporter": "python",
   "pygments_lexer": "ipython3",
   "version": "3.10.9"
  }
 },
 "nbformat": 4,
 "nbformat_minor": 5
}
