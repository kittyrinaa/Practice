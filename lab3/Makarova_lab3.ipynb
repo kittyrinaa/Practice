{
 "cells": [
  {
   "cell_type": "markdown",
   "id": "9900c138",
   "metadata": {},
   "source": [
    " Task 1. In Lab 2 we’ve been writing a script that will fetch some movie \n",
    "data from Wikipedia. For this lab, we’ll use either data fetched in lab 2, or \n",
    "some stub (manually fetched) movie info. \n",
    "Suppose we have a list of movies, where each movie has these attributes: \n",
    "* Release date \n",
    "* Director \n",
    "* Reception (if available as a percentage rating in ”Reception” section \n",
    "* Genre \n",
    "\n",
    " Write Python code that will implement the following: \n",
    "* Represent movie info as Python class objects (e.g. Movie) \n",
    "* For directors, use a separate Director class and refer to it from Movie objects \n",
    "* For genres, create a separate enumeration type \n",
    "* Provide type hints for all fields \n",
    "* Create a Movie class method that will pretty-print given movie info"
   ]
  },
  {
   "cell_type": "code",
   "execution_count": 1,
   "id": "e9ec9da2",
   "metadata": {},
   "outputs": [],
   "source": [
    "from enum import Enum"
   ]
  },
  {
   "cell_type": "code",
   "execution_count": 6,
   "id": "72399fa1",
   "metadata": {},
   "outputs": [
    {
     "name": "stdout",
     "output_type": "stream",
     "text": [
      "Title: Interstellar\n",
      "Release date: 05.11.2014\n",
      "Director: Christopher Nolan\n",
      "Reception: 8.7\n",
      "Genre: OTHERS\n"
     ]
    }
   ],
   "source": [
    "class Genre(Enum):\n",
    "    ACTION = 1\n",
    "    COMEDY = 2\n",
    "    CRIME = 3\n",
    "    FANTASY = 4\n",
    "    DRAMA = 5\n",
    "    HISTORICAL = 6\n",
    "    OTHERS = 7\n",
    "\n",
    "class Directors:\n",
    "    def __init__(self,name):\n",
    "        self.name = name\n",
    "\n",
    "\n",
    "class Movie:\n",
    "    def __init__(self, title: str, release_date: str, director: Directors, reception: float, genre: int):\n",
    "        self.title = title\n",
    "        self.release_date = release_date\n",
    "        self.director = director.name \n",
    "        self.reception = reception\n",
    "        self.genre  = Genre(genre).name\n",
    "    \n",
    "    def __str__(self):\n",
    "        return f'Title: {self.title}\\nRelease date: {self.release_date}\\nDirector: {self.director}\\nReception: {self.reception}\\nGenre: {self.genre}'\n",
    "    \n",
    "director1 = Directors('Christopher Nolan')\n",
    "movie1 = Movie('Interstellar', '05.11.2014', director1 , 8.7, 7)\n",
    "print(movie1)    "
   ]
  },
  {
   "cell_type": "code",
   "execution_count": null,
   "id": "57112578",
   "metadata": {},
   "outputs": [],
   "source": []
  }
 ],
 "metadata": {
  "kernelspec": {
   "display_name": "Python 3 (ipykernel)",
   "language": "python",
   "name": "python3"
  },
  "language_info": {
   "codemirror_mode": {
    "name": "ipython",
    "version": 3
   },
   "file_extension": ".py",
   "mimetype": "text/x-python",
   "name": "python",
   "nbconvert_exporter": "python",
   "pygments_lexer": "ipython3",
   "version": "3.10.9"
  }
 },
 "nbformat": 4,
 "nbformat_minor": 5
}
